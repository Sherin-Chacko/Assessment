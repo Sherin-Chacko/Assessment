{
 "cells": [
  {
   "cell_type": "code",
   "execution_count": 2,
   "id": "3141a4b9",
   "metadata": {},
   "outputs": [],
   "source": [
    "import pandas as pd"
   ]
  },
  {
   "cell_type": "code",
   "execution_count": 3,
   "id": "f0d89d99",
   "metadata": {},
   "outputs": [],
   "source": [
    "csv_path = \"donors2008.csv\""
   ]
  },
  {
   "cell_type": "code",
   "execution_count": 4,
   "id": "550efa5e",
   "metadata": {},
   "outputs": [],
   "source": [
    "donor_df = pd.read_csv(csv_path, low_memory = False)"
   ]
  },
  {
   "cell_type": "code",
   "execution_count": 5,
   "id": "8d94dd40",
   "metadata": {},
   "outputs": [
    {
     "data": {
      "text/html": [
       "<div>\n",
       "<style scoped>\n",
       "    .dataframe tbody tr th:only-of-type {\n",
       "        vertical-align: middle;\n",
       "    }\n",
       "\n",
       "    .dataframe tbody tr th {\n",
       "        vertical-align: top;\n",
       "    }\n",
       "\n",
       "    .dataframe thead th {\n",
       "        text-align: right;\n",
       "    }\n",
       "</style>\n",
       "<table border=\"1\" class=\"dataframe\">\n",
       "  <thead>\n",
       "    <tr style=\"text-align: right;\">\n",
       "      <th></th>\n",
       "      <th>LastName</th>\n",
       "      <th>FirstName</th>\n",
       "      <th>Employer</th>\n",
       "      <th>City</th>\n",
       "      <th>State</th>\n",
       "      <th>Zip</th>\n",
       "      <th>Amount</th>\n",
       "      <th>FIELD8</th>\n",
       "    </tr>\n",
       "  </thead>\n",
       "  <tbody>\n",
       "    <tr>\n",
       "      <th>0</th>\n",
       "      <td>Aaron</td>\n",
       "      <td>Eugene</td>\n",
       "      <td>State Department</td>\n",
       "      <td>Dulles</td>\n",
       "      <td>VA</td>\n",
       "      <td>20189</td>\n",
       "      <td>500.0</td>\n",
       "      <td>NaN</td>\n",
       "    </tr>\n",
       "    <tr>\n",
       "      <th>1</th>\n",
       "      <td>Abadi</td>\n",
       "      <td>Barbara</td>\n",
       "      <td>Abadi &amp; Co.</td>\n",
       "      <td>New York</td>\n",
       "      <td>NY</td>\n",
       "      <td>10021</td>\n",
       "      <td>200.0</td>\n",
       "      <td>NaN</td>\n",
       "    </tr>\n",
       "    <tr>\n",
       "      <th>2</th>\n",
       "      <td>Adamany</td>\n",
       "      <td>Anthony</td>\n",
       "      <td>Retired</td>\n",
       "      <td>Rockford</td>\n",
       "      <td>IL</td>\n",
       "      <td>61103</td>\n",
       "      <td>500.0</td>\n",
       "      <td>NaN</td>\n",
       "    </tr>\n",
       "    <tr>\n",
       "      <th>3</th>\n",
       "      <td>Adams</td>\n",
       "      <td>Lorraine</td>\n",
       "      <td>Self</td>\n",
       "      <td>New York</td>\n",
       "      <td>NY</td>\n",
       "      <td>10026</td>\n",
       "      <td>200.0</td>\n",
       "      <td>NaN</td>\n",
       "    </tr>\n",
       "    <tr>\n",
       "      <th>4</th>\n",
       "      <td>Adams</td>\n",
       "      <td>Marion</td>\n",
       "      <td>None</td>\n",
       "      <td>Exeter</td>\n",
       "      <td>NH</td>\n",
       "      <td>03833</td>\n",
       "      <td>100.0</td>\n",
       "      <td>NaN</td>\n",
       "    </tr>\n",
       "  </tbody>\n",
       "</table>\n",
       "</div>"
      ],
      "text/plain": [
       "  LastName FirstName          Employer      City State    Zip  Amount  FIELD8\n",
       "0    Aaron    Eugene  State Department    Dulles    VA  20189   500.0     NaN\n",
       "1    Abadi   Barbara       Abadi & Co.  New York    NY  10021   200.0     NaN\n",
       "2  Adamany   Anthony           Retired  Rockford    IL  61103   500.0     NaN\n",
       "3    Adams  Lorraine              Self  New York    NY  10026   200.0     NaN\n",
       "4    Adams    Marion              None    Exeter    NH  03833   100.0     NaN"
      ]
     },
     "execution_count": 5,
     "metadata": {},
     "output_type": "execute_result"
    }
   ],
   "source": [
    "donor_df.head(5)"
   ]
  },
  {
   "cell_type": "code",
   "execution_count": 12,
   "id": "8bc0fdbb",
   "metadata": {},
   "outputs": [
    {
     "name": "stdout",
     "output_type": "stream",
     "text": [
      "<pandas.core.groupby.generic.DataFrameGroupBy object at 0x7ff882ae62e0>\n"
     ]
    },
    {
     "data": {
      "text/plain": [
       "State\n",
       "AE     100.000000\n",
       "AK     175.000000\n",
       "AL     212.500000\n",
       "AP     200.000000\n",
       "AR     350.000000\n",
       "AZ     206.000000\n",
       "CA     685.234973\n",
       "CO     851.250000\n",
       "CT     825.714286\n",
       "DC     647.115385\n",
       "DE     190.000000\n",
       "FL     709.358974\n",
       "GA     842.307692\n",
       "HI     195.454545\n",
       "IA     600.000000\n",
       "ID     341.666667\n",
       "IL    1114.519231\n",
       "IN     225.000000\n",
       "KS     283.333333\n",
       "KY     735.000000\n",
       "LA     158.333333\n",
       "MA     750.714286\n",
       "MD     819.823529\n",
       "ME     211.111111\n",
       "MI     241.666667\n",
       "MN     697.000000\n",
       "MO     463.888889\n",
       "MS    1208.333333\n",
       "MT     200.000000\n",
       "NC     440.625000\n",
       "NE     183.333333\n",
       "NH     368.750000\n",
       "NJ     276.111111\n",
       "NM     298.913043\n",
       "NV     393.333333\n",
       "NY     910.829146\n",
       "OH     501.562500\n",
       "OK     200.000000\n",
       "OR     321.052632\n",
       "PA     896.755556\n",
       "QC     250.000000\n",
       "RI     700.000000\n",
       "SC     287.500000\n",
       "TN     257.142857\n",
       "TX     485.193182\n",
       "UT     200.000000\n",
       "VA     701.093465\n",
       "VI     225.000000\n",
       "VT     350.000000\n",
       "WA     399.537037\n",
       "WI     185.416667\n",
       "WV     183.333333\n",
       "WY     125.000000\n",
       "Name: Amount, dtype: float64"
      ]
     },
     "execution_count": 12,
     "metadata": {},
     "output_type": "execute_result"
    }
   ],
   "source": [
    "grouped_donor_df = donor_df.groupby(['State'])\n",
    "print(grouped_donor_df)\n",
    "grouped_donor_df['Amount'].mean()"
   ]
  },
  {
   "cell_type": "code",
   "execution_count": null,
   "id": "23a2ebcc",
   "metadata": {},
   "outputs": [],
   "source": []
  }
 ],
 "metadata": {
  "kernelspec": {
   "display_name": "PythonData",
   "language": "python",
   "name": "pythondata"
  },
  "language_info": {
   "codemirror_mode": {
    "name": "ipython",
    "version": 3
   },
   "file_extension": ".py",
   "mimetype": "text/x-python",
   "name": "python",
   "nbconvert_exporter": "python",
   "pygments_lexer": "ipython3",
   "version": "3.8.8"
  }
 },
 "nbformat": 4,
 "nbformat_minor": 5
}
